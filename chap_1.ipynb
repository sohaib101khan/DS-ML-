{
  "cells": [
    {
      "cell_type": "code",
      "execution_count": 2,
      "metadata": {
        "id": "js5NuH-CsHln"
      },
      "outputs": [],
      "source": [
        "import pandas as pd\n",
        "import matplotlib.pyplot as plt\n",
        "import numpy as np\n",
        "import seaborn as sns\n",
        "from scipy import stats\n",
        "import random"
      ]
    },
    {
      "cell_type": "markdown",
      "metadata": {
        "id": "nBtIdAjUs1HE"
      },
      "source": []
    },
    {
      "cell_type": "markdown",
      "metadata": {
        "id": "cHJsEtGxtVsZ"
      },
      "source": [
        "## CSV FILE\n",
        "\n",
        "in this code first i take data from the file techfest pkasitan which include 40 participants 12+ cities, 12+ jobs, and 12+ workshops and i converted that data into dictionaries then created a DataFrame using Pandas, and finally converted it into a CSV file and imported it here.\n",
        "\n",
        "We will take data from the CSV file and compare the following fields:\n",
        "Name, City, Profession, Age, Workshop, Presentation_Score, and Feedback_Rating."
      ]
    },
    {
      "cell_type": "code",
      "execution_count": 3,
      "metadata": {
        "colab": {
          "base_uri": "https://localhost:8080/",
          "height": 206
        },
        "id": "IVhphOkrv4lI",
        "outputId": "825d6940-f046-4de0-e5c7-0f2f242240eb"
      },
      "outputs": [
        {
          "output_type": "execute_result",
          "data": {
            "text/plain": [
              "                                  ProjectTitle                    TeamName  \\\n",
              "0  Business-focused empowering functionalities             Martin-Anderson   \n",
              "1              Automated impactful utilization  Shelton, Fields and Sutton   \n",
              "2         Realigned systemic pricing structure                 Mendoza LLC   \n",
              "3          Reactive upward-trending projection       Ayers, Small and Hall   \n",
              "4             Front-line non-volatile extranet  Lewis, Pittman and Leonard   \n",
              "\n",
              "        Category            City SubmissionDate  Score  \n",
              "0  Cybersecurity     North James     2025-01-16     56  \n",
              "1     Blockchain     Anthonyberg     2025-06-29     69  \n",
              "2       Robotics  Macdonaldshire     2025-04-10     84  \n",
              "3       Robotics      Millertown     2024-11-26     79  \n",
              "4  Cybersecurity   Williamsmouth     2024-10-16     60  "
            ],
            "text/html": [
              "\n",
              "  <div id=\"df-4af39490-6bc3-44eb-bbcb-66e986bd6224\" class=\"colab-df-container\">\n",
              "    <div>\n",
              "<style scoped>\n",
              "    .dataframe tbody tr th:only-of-type {\n",
              "        vertical-align: middle;\n",
              "    }\n",
              "\n",
              "    .dataframe tbody tr th {\n",
              "        vertical-align: top;\n",
              "    }\n",
              "\n",
              "    .dataframe thead th {\n",
              "        text-align: right;\n",
              "    }\n",
              "</style>\n",
              "<table border=\"1\" class=\"dataframe\">\n",
              "  <thead>\n",
              "    <tr style=\"text-align: right;\">\n",
              "      <th></th>\n",
              "      <th>ProjectTitle</th>\n",
              "      <th>TeamName</th>\n",
              "      <th>Category</th>\n",
              "      <th>City</th>\n",
              "      <th>SubmissionDate</th>\n",
              "      <th>Score</th>\n",
              "    </tr>\n",
              "  </thead>\n",
              "  <tbody>\n",
              "    <tr>\n",
              "      <th>0</th>\n",
              "      <td>Business-focused empowering functionalities</td>\n",
              "      <td>Martin-Anderson</td>\n",
              "      <td>Cybersecurity</td>\n",
              "      <td>North James</td>\n",
              "      <td>2025-01-16</td>\n",
              "      <td>56</td>\n",
              "    </tr>\n",
              "    <tr>\n",
              "      <th>1</th>\n",
              "      <td>Automated impactful utilization</td>\n",
              "      <td>Shelton, Fields and Sutton</td>\n",
              "      <td>Blockchain</td>\n",
              "      <td>Anthonyberg</td>\n",
              "      <td>2025-06-29</td>\n",
              "      <td>69</td>\n",
              "    </tr>\n",
              "    <tr>\n",
              "      <th>2</th>\n",
              "      <td>Realigned systemic pricing structure</td>\n",
              "      <td>Mendoza LLC</td>\n",
              "      <td>Robotics</td>\n",
              "      <td>Macdonaldshire</td>\n",
              "      <td>2025-04-10</td>\n",
              "      <td>84</td>\n",
              "    </tr>\n",
              "    <tr>\n",
              "      <th>3</th>\n",
              "      <td>Reactive upward-trending projection</td>\n",
              "      <td>Ayers, Small and Hall</td>\n",
              "      <td>Robotics</td>\n",
              "      <td>Millertown</td>\n",
              "      <td>2024-11-26</td>\n",
              "      <td>79</td>\n",
              "    </tr>\n",
              "    <tr>\n",
              "      <th>4</th>\n",
              "      <td>Front-line non-volatile extranet</td>\n",
              "      <td>Lewis, Pittman and Leonard</td>\n",
              "      <td>Cybersecurity</td>\n",
              "      <td>Williamsmouth</td>\n",
              "      <td>2024-10-16</td>\n",
              "      <td>60</td>\n",
              "    </tr>\n",
              "  </tbody>\n",
              "</table>\n",
              "</div>\n",
              "    <div class=\"colab-df-buttons\">\n",
              "\n",
              "  <div class=\"colab-df-container\">\n",
              "    <button class=\"colab-df-convert\" onclick=\"convertToInteractive('df-4af39490-6bc3-44eb-bbcb-66e986bd6224')\"\n",
              "            title=\"Convert this dataframe to an interactive table.\"\n",
              "            style=\"display:none;\">\n",
              "\n",
              "  <svg xmlns=\"http://www.w3.org/2000/svg\" height=\"24px\" viewBox=\"0 -960 960 960\">\n",
              "    <path d=\"M120-120v-720h720v720H120Zm60-500h600v-160H180v160Zm220 220h160v-160H400v160Zm0 220h160v-160H400v160ZM180-400h160v-160H180v160Zm440 0h160v-160H620v160ZM180-180h160v-160H180v160Zm440 0h160v-160H620v160Z\"/>\n",
              "  </svg>\n",
              "    </button>\n",
              "\n",
              "  <style>\n",
              "    .colab-df-container {\n",
              "      display:flex;\n",
              "      gap: 12px;\n",
              "    }\n",
              "\n",
              "    .colab-df-convert {\n",
              "      background-color: #E8F0FE;\n",
              "      border: none;\n",
              "      border-radius: 50%;\n",
              "      cursor: pointer;\n",
              "      display: none;\n",
              "      fill: #1967D2;\n",
              "      height: 32px;\n",
              "      padding: 0 0 0 0;\n",
              "      width: 32px;\n",
              "    }\n",
              "\n",
              "    .colab-df-convert:hover {\n",
              "      background-color: #E2EBFA;\n",
              "      box-shadow: 0px 1px 2px rgba(60, 64, 67, 0.3), 0px 1px 3px 1px rgba(60, 64, 67, 0.15);\n",
              "      fill: #174EA6;\n",
              "    }\n",
              "\n",
              "    .colab-df-buttons div {\n",
              "      margin-bottom: 4px;\n",
              "    }\n",
              "\n",
              "    [theme=dark] .colab-df-convert {\n",
              "      background-color: #3B4455;\n",
              "      fill: #D2E3FC;\n",
              "    }\n",
              "\n",
              "    [theme=dark] .colab-df-convert:hover {\n",
              "      background-color: #434B5C;\n",
              "      box-shadow: 0px 1px 3px 1px rgba(0, 0, 0, 0.15);\n",
              "      filter: drop-shadow(0px 1px 2px rgba(0, 0, 0, 0.3));\n",
              "      fill: #FFFFFF;\n",
              "    }\n",
              "  </style>\n",
              "\n",
              "    <script>\n",
              "      const buttonEl =\n",
              "        document.querySelector('#df-4af39490-6bc3-44eb-bbcb-66e986bd6224 button.colab-df-convert');\n",
              "      buttonEl.style.display =\n",
              "        google.colab.kernel.accessAllowed ? 'block' : 'none';\n",
              "\n",
              "      async function convertToInteractive(key) {\n",
              "        const element = document.querySelector('#df-4af39490-6bc3-44eb-bbcb-66e986bd6224');\n",
              "        const dataTable =\n",
              "          await google.colab.kernel.invokeFunction('convertToInteractive',\n",
              "                                                    [key], {});\n",
              "        if (!dataTable) return;\n",
              "\n",
              "        const docLinkHtml = 'Like what you see? Visit the ' +\n",
              "          '<a target=\"_blank\" href=https://colab.research.google.com/notebooks/data_table.ipynb>data table notebook</a>'\n",
              "          + ' to learn more about interactive tables.';\n",
              "        element.innerHTML = '';\n",
              "        dataTable['output_type'] = 'display_data';\n",
              "        await google.colab.output.renderOutput(dataTable, element);\n",
              "        const docLink = document.createElement('div');\n",
              "        docLink.innerHTML = docLinkHtml;\n",
              "        element.appendChild(docLink);\n",
              "      }\n",
              "    </script>\n",
              "  </div>\n",
              "\n",
              "\n",
              "    <div id=\"df-ab6d471b-c2b2-4458-8e9a-bede1ee8ad08\">\n",
              "      <button class=\"colab-df-quickchart\" onclick=\"quickchart('df-ab6d471b-c2b2-4458-8e9a-bede1ee8ad08')\"\n",
              "                title=\"Suggest charts\"\n",
              "                style=\"display:none;\">\n",
              "\n",
              "<svg xmlns=\"http://www.w3.org/2000/svg\" height=\"24px\"viewBox=\"0 0 24 24\"\n",
              "     width=\"24px\">\n",
              "    <g>\n",
              "        <path d=\"M19 3H5c-1.1 0-2 .9-2 2v14c0 1.1.9 2 2 2h14c1.1 0 2-.9 2-2V5c0-1.1-.9-2-2-2zM9 17H7v-7h2v7zm4 0h-2V7h2v10zm4 0h-2v-4h2v4z\"/>\n",
              "    </g>\n",
              "</svg>\n",
              "      </button>\n",
              "\n",
              "<style>\n",
              "  .colab-df-quickchart {\n",
              "      --bg-color: #E8F0FE;\n",
              "      --fill-color: #1967D2;\n",
              "      --hover-bg-color: #E2EBFA;\n",
              "      --hover-fill-color: #174EA6;\n",
              "      --disabled-fill-color: #AAA;\n",
              "      --disabled-bg-color: #DDD;\n",
              "  }\n",
              "\n",
              "  [theme=dark] .colab-df-quickchart {\n",
              "      --bg-color: #3B4455;\n",
              "      --fill-color: #D2E3FC;\n",
              "      --hover-bg-color: #434B5C;\n",
              "      --hover-fill-color: #FFFFFF;\n",
              "      --disabled-bg-color: #3B4455;\n",
              "      --disabled-fill-color: #666;\n",
              "  }\n",
              "\n",
              "  .colab-df-quickchart {\n",
              "    background-color: var(--bg-color);\n",
              "    border: none;\n",
              "    border-radius: 50%;\n",
              "    cursor: pointer;\n",
              "    display: none;\n",
              "    fill: var(--fill-color);\n",
              "    height: 32px;\n",
              "    padding: 0;\n",
              "    width: 32px;\n",
              "  }\n",
              "\n",
              "  .colab-df-quickchart:hover {\n",
              "    background-color: var(--hover-bg-color);\n",
              "    box-shadow: 0 1px 2px rgba(60, 64, 67, 0.3), 0 1px 3px 1px rgba(60, 64, 67, 0.15);\n",
              "    fill: var(--button-hover-fill-color);\n",
              "  }\n",
              "\n",
              "  .colab-df-quickchart-complete:disabled,\n",
              "  .colab-df-quickchart-complete:disabled:hover {\n",
              "    background-color: var(--disabled-bg-color);\n",
              "    fill: var(--disabled-fill-color);\n",
              "    box-shadow: none;\n",
              "  }\n",
              "\n",
              "  .colab-df-spinner {\n",
              "    border: 2px solid var(--fill-color);\n",
              "    border-color: transparent;\n",
              "    border-bottom-color: var(--fill-color);\n",
              "    animation:\n",
              "      spin 1s steps(1) infinite;\n",
              "  }\n",
              "\n",
              "  @keyframes spin {\n",
              "    0% {\n",
              "      border-color: transparent;\n",
              "      border-bottom-color: var(--fill-color);\n",
              "      border-left-color: var(--fill-color);\n",
              "    }\n",
              "    20% {\n",
              "      border-color: transparent;\n",
              "      border-left-color: var(--fill-color);\n",
              "      border-top-color: var(--fill-color);\n",
              "    }\n",
              "    30% {\n",
              "      border-color: transparent;\n",
              "      border-left-color: var(--fill-color);\n",
              "      border-top-color: var(--fill-color);\n",
              "      border-right-color: var(--fill-color);\n",
              "    }\n",
              "    40% {\n",
              "      border-color: transparent;\n",
              "      border-right-color: var(--fill-color);\n",
              "      border-top-color: var(--fill-color);\n",
              "    }\n",
              "    60% {\n",
              "      border-color: transparent;\n",
              "      border-right-color: var(--fill-color);\n",
              "    }\n",
              "    80% {\n",
              "      border-color: transparent;\n",
              "      border-right-color: var(--fill-color);\n",
              "      border-bottom-color: var(--fill-color);\n",
              "    }\n",
              "    90% {\n",
              "      border-color: transparent;\n",
              "      border-bottom-color: var(--fill-color);\n",
              "    }\n",
              "  }\n",
              "</style>\n",
              "\n",
              "      <script>\n",
              "        async function quickchart(key) {\n",
              "          const quickchartButtonEl =\n",
              "            document.querySelector('#' + key + ' button');\n",
              "          quickchartButtonEl.disabled = true;  // To prevent multiple clicks.\n",
              "          quickchartButtonEl.classList.add('colab-df-spinner');\n",
              "          try {\n",
              "            const charts = await google.colab.kernel.invokeFunction(\n",
              "                'suggestCharts', [key], {});\n",
              "          } catch (error) {\n",
              "            console.error('Error during call to suggestCharts:', error);\n",
              "          }\n",
              "          quickchartButtonEl.classList.remove('colab-df-spinner');\n",
              "          quickchartButtonEl.classList.add('colab-df-quickchart-complete');\n",
              "        }\n",
              "        (() => {\n",
              "          let quickchartButtonEl =\n",
              "            document.querySelector('#df-ab6d471b-c2b2-4458-8e9a-bede1ee8ad08 button');\n",
              "          quickchartButtonEl.style.display =\n",
              "            google.colab.kernel.accessAllowed ? 'block' : 'none';\n",
              "        })();\n",
              "      </script>\n",
              "    </div>\n",
              "\n",
              "    </div>\n",
              "  </div>\n"
            ],
            "application/vnd.google.colaboratory.intrinsic+json": {
              "type": "dataframe",
              "variable_name": "df",
              "summary": "{\n  \"name\": \"df\",\n  \"rows\": 30,\n  \"fields\": [\n    {\n      \"column\": \"ProjectTitle\",\n      \"properties\": {\n        \"dtype\": \"string\",\n        \"num_unique_values\": 30,\n        \"samples\": [\n          \"De-engineered encompassing adapter\",\n          \"Enterprise-wide stable capacity\",\n          \"Configurable regional strategy\"\n        ],\n        \"semantic_type\": \"\",\n        \"description\": \"\"\n      }\n    },\n    {\n      \"column\": \"TeamName\",\n      \"properties\": {\n        \"dtype\": \"string\",\n        \"num_unique_values\": 30,\n        \"samples\": [\n          \"Stevenson, Johnson and Jackson\",\n          \"Meyer, Richmond and Washington\",\n          \"Harvey-Davis\"\n        ],\n        \"semantic_type\": \"\",\n        \"description\": \"\"\n      }\n    },\n    {\n      \"column\": \"Category\",\n      \"properties\": {\n        \"dtype\": \"category\",\n        \"num_unique_values\": 5,\n        \"samples\": [\n          \"Blockchain\",\n          \"IoT\",\n          \"Robotics\"\n        ],\n        \"semantic_type\": \"\",\n        \"description\": \"\"\n      }\n    },\n    {\n      \"column\": \"City\",\n      \"properties\": {\n        \"dtype\": \"string\",\n        \"num_unique_values\": 30,\n        \"samples\": [\n          \"South Joshuahaven\",\n          \"North Michelle\",\n          \"Lake Bradleyfort\"\n        ],\n        \"semantic_type\": \"\",\n        \"description\": \"\"\n      }\n    },\n    {\n      \"column\": \"SubmissionDate\",\n      \"properties\": {\n        \"dtype\": \"object\",\n        \"num_unique_values\": 30,\n        \"samples\": [\n          \"2025-01-18\",\n          \"2025-04-03\",\n          \"2024-12-25\"\n        ],\n        \"semantic_type\": \"\",\n        \"description\": \"\"\n      }\n    },\n    {\n      \"column\": \"Score\",\n      \"properties\": {\n        \"dtype\": \"number\",\n        \"std\": 14,\n        \"min\": 50,\n        \"max\": 98,\n        \"num_unique_values\": 24,\n        \"samples\": [\n          98,\n          90,\n          56\n        ],\n        \"semantic_type\": \"\",\n        \"description\": \"\"\n      }\n    }\n  ]\n}"
            }
          },
          "metadata": {},
          "execution_count": 3
        }
      ],
      "source": [
        "df = pd.read_csv('/content/techfest_pakistan_demo.csv')\n",
        "df.head()"
      ]
    },
    {
      "cell_type": "markdown",
      "metadata": {
        "id": "3sjAAMnZwS7R"
      },
      "source": [
        "##MEAN\n",
        "mean give us the quick idea of overal values like it tell the typical value in your data (like the center)\n",
        "\n",
        "\n",
        "####-HOW IT WORKS-\n",
        "add the values, then divide the values how many values you have for example :\n",
        "                 data = [2,4,6,8,10]\n",
        "                 mean = [2+4+6+8+10]/5 = 6\n"
      ]
    },
    {
      "cell_type": "code",
      "execution_count": null,
      "metadata": {
        "colab": {
          "base_uri": "https://localhost:8080/"
        },
        "id": "UfirIsim7aKg",
        "outputId": "a82604de-b78f-4aa5-efe0-b9bb2cb4960f"
      },
      "outputs": [
        {
          "data": {
            "text/plain": [
              "np.float64(75.6)"
            ]
          },
          "execution_count": 5,
          "metadata": {},
          "output_type": "execute_result"
        }
      ],
      "source": [
        "mean = np.mean(df['Score'])\n",
        "mean"
      ]
    },
    {
      "cell_type": "markdown",
      "metadata": {
        "id": "OUUao471zKno"
      },
      "source": [
        "##MEDIAN\n",
        "if we list all sales from lowest to highest and pick the exactly middle one and it is better than mean when your data has outliers"
      ]
    },
    {
      "cell_type": "markdown",
      "metadata": {
        "id": "0IeQ1BEC1j7L"
      },
      "source": [
        "###-WHY WE USE IT-\n",
        "it is use to find the center of data and it is specifically used when we have data with large and lower values\n"
      ]
    },
    {
      "cell_type": "code",
      "execution_count": null,
      "metadata": {
        "colab": {
          "base_uri": "https://localhost:8080/"
        },
        "id": "CdGxQYke9JFq",
        "outputId": "4b0a9fe4-924e-4e50-fe1c-3aa6e0110e09"
      },
      "outputs": [
        {
          "data": {
            "text/plain": [
              "75.5"
            ]
          },
          "execution_count": 7,
          "metadata": {},
          "output_type": "execute_result"
        }
      ],
      "source": [
        "median = df['Score'].median()\n",
        "median\n"
      ]
    },
    {
      "cell_type": "markdown",
      "metadata": {
        "id": "OhfVXPuC11ts"
      },
      "source": [
        "##MODE\n",
        "\n",
        "the value that occur most frequently like we have a set and value 4 is repeted in it"
      ]
    },
    {
      "cell_type": "markdown",
      "metadata": {
        "id": "pGcXOm072Q0h"
      },
      "source": [
        "#### WHY WE USE IT-\n",
        "To identify the most common value\n",
        "\n",
        "for example\n",
        "data = [2,3,4,2,1]\n",
        "value 2 is repeted so by using mode we find repeted values"
      ]
    },
    {
      "cell_type": "code",
      "execution_count": null,
      "metadata": {
        "colab": {
          "base_uri": "https://localhost:8080/",
          "height": 147
        },
        "id": "pDg98C0s2Vk6",
        "outputId": "0b5c8278-4903-40ce-ff50-4f62b8608144"
      },
      "outputs": [
        {
          "data": {
            "text/html": [
              "<div>\n",
              "<style scoped>\n",
              "    .dataframe tbody tr th:only-of-type {\n",
              "        vertical-align: middle;\n",
              "    }\n",
              "\n",
              "    .dataframe tbody tr th {\n",
              "        vertical-align: top;\n",
              "    }\n",
              "\n",
              "    .dataframe thead th {\n",
              "        text-align: right;\n",
              "    }\n",
              "</style>\n",
              "<table border=\"1\" class=\"dataframe\">\n",
              "  <thead>\n",
              "    <tr style=\"text-align: right;\">\n",
              "      <th></th>\n",
              "      <th>Score</th>\n",
              "    </tr>\n",
              "  </thead>\n",
              "  <tbody>\n",
              "    <tr>\n",
              "      <th>0</th>\n",
              "      <td>71</td>\n",
              "    </tr>\n",
              "    <tr>\n",
              "      <th>1</th>\n",
              "      <td>98</td>\n",
              "    </tr>\n",
              "  </tbody>\n",
              "</table>\n",
              "</div><br><label><b>dtype:</b> int64</label>"
            ],
            "text/plain": [
              "0    71\n",
              "1    98\n",
              "Name: Score, dtype: int64"
            ]
          },
          "execution_count": 6,
          "metadata": {},
          "output_type": "execute_result"
        }
      ],
      "source": [
        "mode = df['Score'].mode()\n",
        "mode"
      ]
    },
    {
      "cell_type": "markdown",
      "metadata": {
        "id": "8a0Y5f5J3brv"
      },
      "source": []
    },
    {
      "cell_type": "markdown",
      "metadata": {
        "id": "wUwUASVR3y6B"
      },
      "source": [
        "##QUARTILES\n",
        "quartile is the number that divide our data in 4 parts\n",
        "\n",
        "Q1 25%\n",
        "\n",
        "Q2 50%\n",
        "\n",
        "Q3 75%"
      ]
    },
    {
      "cell_type": "markdown",
      "metadata": {
        "id": "m_DsEejg4L8L"
      },
      "source": [
        "###-25 PERCENTILE Q1-\n",
        "Q1 it is the first 25% of data is below this point"
      ]
    },
    {
      "cell_type": "markdown",
      "metadata": {
        "id": "Tc1xXpPK4bpu"
      },
      "source": [
        "###-why we use it-\n",
        "it help us to analize data distribution when we have a lot of data this is very useful\n",
        "\n"
      ]
    },
    {
      "cell_type": "markdown",
      "metadata": {
        "id": "_QLhIcs64TAu"
      },
      "source": [
        "##PERCENTILE Q2\n",
        "Q2 is 2nd quartile 50% (median) it is the middle value of the dataset"
      ]
    },
    {
      "cell_type": "markdown",
      "metadata": {
        "id": "aY8fIjAx41b-"
      },
      "source": [
        "###-why we use it-\n",
        "to know the middle value of the dataset"
      ]
    },
    {
      "cell_type": "markdown",
      "metadata": {
        "id": "GhyV1sol5HXl"
      },
      "source": [
        "##75 PERCENTILE Q3\n",
        "Q3 mean that the 75% data is below this point like how many student score above this and beow this we can find it through this"
      ]
    },
    {
      "cell_type": "markdown",
      "metadata": {
        "id": "aJ_loMLU5lYy"
      },
      "source": [
        "###-why we ust it-\n",
        "it is usefull to find the high performance in any field"
      ]
    },
    {
      "cell_type": "markdown",
      "metadata": {
        "id": "ktPrJQoT6AMC"
      },
      "source": [
        "##RANGE\n",
        "range is the subtraction of minimum and maximum\n",
        "\n",
        "range = max - min"
      ]
    },
    {
      "cell_type": "markdown",
      "metadata": {
        "id": "rxUyuWa8C8Zz"
      },
      "source": []
    },
    {
      "cell_type": "markdown",
      "metadata": {
        "id": "YYRsjeoz6O3u"
      },
      "source": [
        "###-WHY WE USE IT-\n",
        "the difference bwtween the max and min if the difference is high its mean the diversity is very high we need to focus more"
      ]
    },
    {
      "cell_type": "code",
      "execution_count": null,
      "metadata": {
        "colab": {
          "base_uri": "https://localhost:8080/"
        },
        "id": "ar6nAu9TD9qj",
        "outputId": "6320eed8-46e4-4b1a-9682-d5ea3f6da113"
      },
      "outputs": [
        {
          "data": {
            "text/plain": [
              "48"
            ]
          },
          "execution_count": 8,
          "metadata": {},
          "output_type": "execute_result"
        }
      ],
      "source": [
        "max = np.max(df['Score'])\n",
        "max\n",
        "min = np.min(df['Score'])\n",
        "min\n",
        "range = max - min\n",
        "range"
      ]
    },
    {
      "cell_type": "markdown",
      "metadata": {
        "id": "6hVic9-B7Nqn"
      },
      "source": [
        "##VARIANCE AND STANDARD DAVIATION\n",
        "it tells us how much the data is spread from the mean forexample if we say the progress of worker is same from last months or different\n"
      ]
    },
    {
      "cell_type": "markdown",
      "metadata": {
        "id": "b12rxe0CE9eY"
      },
      "source": []
    },
    {
      "cell_type": "markdown",
      "metadata": {
        "id": "WltNWqjR7vuh"
      },
      "source": [
        "###-WHY WE USE IT-\n",
        "to find the if the customers sales are same from past time of different"
      ]
    },
    {
      "cell_type": "markdown",
      "metadata": {
        "id": "U-kC__g_5TgY"
      },
      "source": []
    },
    {
      "cell_type": "markdown",
      "metadata": {
        "id": "Sv7DXgJYB_VI"
      },
      "source": [
        "##INTERQUARTILE RANGE\n",
        "interquartile is the range between Q1 and Q3 the range or difference between this is interquartile range"
      ]
    },
    {
      "cell_type": "markdown",
      "metadata": {
        "id": "3qIGh_sBI-xq"
      },
      "source": [
        "##BOX PLOT GRAPH\n",
        "it is the graph which help us to know how much our data is spread and help us to understand the minimum value , 1st quartile , median , upper quartile , maximum value\n",
        "There is no outliers in the graph( if any that shows the how much the participants score more than expected.)"
      ]
    },
    {
      "cell_type": "code",
      "execution_count": null,
      "metadata": {
        "colab": {
          "base_uri": "https://localhost:8080/",
          "height": 396
        },
        "id": "-bA6Xcd1GKOM",
        "outputId": "fb3523fe-54a5-41d8-9a18-e34a484af473"
      },
      "outputs": [
        {
          "data": {
            "image/png": "[encoded data removed]",
            "text/plain": [
              "<Figure size 600x400 with 1 Axes>"
            ]
          },
          "metadata": {},
          "output_type": "display_data"
        }
      ],
      "source": [
        "plt.figure(figsize=(6,4))\n",
        "sns.boxplot(df['Score'] , color = 'brown')\n",
        "plt.title(\"boxplot\")\n",
        "plt.ylabel(\"Score\")\n",
        "plt.xlabel(\"x\")\n",
        "plt.show()"
      ]
    },
    {
      "cell_type": "markdown",
      "metadata": {
        "id": "B62Jf_HeKIzQ"
      },
      "source": [
        "##HISTOGRAM BARS\n",
        "is is the graph to find out how many values are in each range for example grouping similar things and counting how many are in each group\n",
        "\n",
        "in this diagram KDE curvve(smooth line) to show score distribution shape"
      ]
    },
    {
      "cell_type": "code",
      "execution_count": null,
      "metadata": {
        "colab": {
          "base_uri": "https://localhost:8080/",
          "height": 487
        },
        "id": "o_9FdI_GLJX6",
        "outputId": "6a9d1a6c-90f5-49c0-f5b8-884ef28b151f"
      },
      "outputs": [
        {
          "data": {
            "image/png": "[encoded data removed]",
            "text/plain": [
              "<Figure size 800x500 with 1 Axes>"
            ]
          },
          "metadata": {},
          "output_type": "display_data"
        }
      ],
      "source": [
        "plt.figure(figsize=(8,5))\n",
        "\n",
        "#it Create a histogram of presentation scores with a smooth KDE curve\n",
        "sns.histplot(df['Score'],\n",
        "             kde=True,\n",
        "             color='blue')\n",
        "\n",
        "plt.title('Distribution of Scores')\n",
        "\n",
        "plt.xlabel(\"X Score\")\n",
        "\n",
        "\n",
        "plt.ylabel(\"Y Count\")\n",
        "\n",
        "plt.show()"
      ]
    },
    {
      "cell_type": "markdown",
      "metadata": {
        "id": "nEBdPuvcLqLt"
      },
      "source": [
        "##HORIZONTAL BAR GRAPH\n",
        "it is the kind of graph which shows data from left to right like if we want top 5 most employes in any city count it and show me it through this graph and very useful when data is categorical\n",
        "\n",
        "order : order category from highest to lowest\n",
        "\n",
        "hue : give every city in a bar different color\n",
        "\n",
        "palette : use for soft visual nice colors\n",
        "\n",
        "legend : dont show a legend because city names are already on the y-axis"
      ]
    },
    {
      "cell_type": "code",
      "execution_count": null,
      "metadata": {
        "colab": {
          "base_uri": "https://localhost:8080/",
          "height": 564
        },
        "id": "bvRbe4gbMrNd",
        "outputId": "59fcd423-e641-4e14-eecb-0843b038bb84"
      },
      "outputs": [
        {
          "data": {
            "image/png": "[encoded data removed]",
            "text/plain": [
              "<Figure size 1000x600 with 1 Axes>"
            ]
          },
          "metadata": {},
          "output_type": "display_data"
        }
      ],
      "source": [
        "\n",
        "\n",
        "plt.figure(figsize=(10,6))\n",
        "\n",
        "sns.countplot(\n",
        "    y='City',\n",
        "    data=df,\n",
        "    order=df['City'].value_counts().index,\n",
        "    hue='City',\n",
        "    palette='Set2',\n",
        "    legend=False\n",
        ")\n",
        "\n",
        "\n",
        "plt.title(\"Participants from Top 10 Cities\")\n",
        "\n",
        "\n",
        "plt.xlabel(\"Count\")\n",
        "\n",
        "\n",
        "plt.ylabel(\"City\")\n",
        "\n",
        "\n",
        "plt.show()\n",
        "\n"
      ]
    },
    {
      "cell_type": "markdown",
      "metadata": {
        "id": "TlRhJWn_PA6c"
      },
      "source": [
        "##HORIZONTAL BAR CHAT\n",
        "is the the bar which goes from left to right to compare values it does't go up or down"
      ]
    },
    {
      "cell_type": "code",
      "execution_count": null,
      "metadata": {
        "colab": {
          "base_uri": "https://localhost:8080/",
          "height": 607
        },
        "id": "VIg593UyPJbi",
        "outputId": "79e3e7e0-751a-4dc8-a301-4a00a4ef224a"
      },
      "outputs": [
        {
          "data": {
            "image/png": "[encoded data removed]",
            "text/plain": [
              "<Figure size 1000x600 with 1 Axes>"
            ]
          },
          "metadata": {},
          "output_type": "display_data"
        }
      ],
      "source": [
        "\n",
        "plt.figure(figsize=(10, 6))\n",
        "\n",
        "sns.countplot(\n",
        "    y='Category',\n",
        "    data=df,\n",
        "    order=df['Category'].value_counts().index,\n",
        "    hue='Category',\n",
        "    palette=\"Set2\",\n",
        "    legend=False\n",
        ")\n",
        "\n",
        "\n",
        "plt.title(\"Number of Participants by Category\")\n",
        "\n",
        "\n",
        "plt.xlabel(\"X Count\")\n",
        "\n",
        "plt.ylabel(\"Y Category\")\n",
        "\n",
        "plt.tight_layout()\n",
        "\n",
        "\n",
        "plt.show()"
      ]
    },
    {
      "cell_type": "markdown",
      "metadata": {
        "id": "6AmpjzWdQbSf"
      },
      "source": [
        "##HORIZONTAL BAR GRAPH\n",
        "it is also a bar which is used from left to right and it is used when the category names are too large and easy to read"
      ]
    },
    {
      "cell_type": "code",
      "execution_count": null,
      "metadata": {
        "colab": {
          "base_uri": "https://localhost:8080/",
          "height": 564
        },
        "id": "mS2k_3qxQi0J",
        "outputId": "ca18bc20-94d1-4edb-96a1-7cd58a3cdcbb"
      },
      "outputs": [
        {
          "data": {
            "image/png": "[encoded data removed]",
            "text/plain": [
              "<Figure size 1200x600 with 1 Axes>"
            ]
          },
          "metadata": {},
          "output_type": "display_data"
        }
      ],
      "source": [
        "plt.figure(figsize=(12,6))\n",
        "\n",
        "sns.countplot(\n",
        "    y='Category',\n",
        "    data=df,\n",
        "    order=df['Category'].value_counts().index,\n",
        "    hue='Category',\n",
        "    palette=\"Set3\",\n",
        "    legend=False\n",
        ")\n",
        "\n",
        "plt.title(\"Category\")\n",
        "\n",
        "plt.xlabel(\"Count\")\n",
        "\n",
        "plt.ylabel(\"Category\")\n",
        "\n",
        "plt.show()"
      ]
    },
    {
      "cell_type": "markdown",
      "metadata": {
        "id": "a-GjYHYOSuXB"
      },
      "source": [
        "##SCATTER PLOT\n",
        "it shows the dots in the grpah that does the comparison so  we can know through this how our data is"
      ]
    },
    {
      "cell_type": "code",
      "execution_count": 8,
      "metadata": {
        "colab": {
          "base_uri": "https://localhost:8080/",
          "height": 472
        },
        "id": "7JljiFkgS0qu",
        "outputId": "9004d9b6-d474-4962-f315-c0b417633f34"
      },
      "outputs": [
        {
          "output_type": "display_data",
          "data": {
            "text/plain": [
              "<Figure size 640x480 with 1 Axes>"
            ],
            "image/png": "[encoded data removed]"
          },
          "metadata": {}
        }
      ],
      "source": [
        "# Select only the top 5 rows\n",
        "df_top10 = df.head(10)\n",
        "\n",
        "# Create scatter plot for top 5 participants\n",
        "sns.scatterplot(\n",
        "    data=df_top10,\n",
        "    x=df_top10.index,\n",
        "    y='Score',\n",
        "    hue='City',\n",
        ")\n",
        "\n",
        "plt.title(\"TOP 10 cities\")\n",
        "plt.xlabel(\"X_Index\")\n",
        "plt.ylabel(\"y_Score\")\n",
        "plt.show()\n",
        "\n"
      ]
    }
  ],
  "metadata": {
    "colab": {
      "provenance": []
    },
    "kernelspec": {
      "display_name": "Python 3",
      "name": "python3"
    },
    "language_info": {
      "name": "python"
    }
  },
  "nbformat": 4,
  "nbformat_minor": 0
}